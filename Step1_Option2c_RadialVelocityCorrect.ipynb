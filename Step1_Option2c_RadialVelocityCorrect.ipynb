{
 "cells": [
  {
   "cell_type": "markdown",
   "id": "88baa5c0",
   "metadata": {},
   "source": [
    "# Radial Velocity Correct \n",
    "\n",
    "Correct the radial velocity of the object by shifting the spectrum until it best matches a templete spectrum that is at rest / has already been radial velocity corrected.\n",
    "\n",
    "\n",
    "Note: Radial velocity correction should typically be done after continuum normalization "
   ]
  },
  {
   "cell_type": "code",
   "execution_count": null,
   "id": "b3468726",
   "metadata": {},
   "outputs": [],
   "source": [
    "%matplotlib notebook\n",
    "\n",
    "import matplotlib.pyplot as plt\n",
    "import numpy as np \n",
    "import os \n",
    "import sys\n",
    "from os import listdir\n",
    "import shutil\n",
    "\n",
    "from astropy.io import ascii\n",
    "from astropy.io import fits\n",
    "from astropy.table import Table\n",
    "from astropy import units as u\n",
    "\n",
    "# ----------------- Import the other files of functions\n",
    "module_path = os.path.abspath(os.path.join('..'))\n",
    "if module_path not in sys.path:\n",
    "    sys.path.append(module_path)\n",
    "\n",
    "import asap_lib.moog_funcs as mf\n",
    "import asap_lib.auto_atmosphere as aa\n",
    "import asap_lib.calc_abunds as calc_abunds\n",
    "import asap_lib.line_list_utils as llu\n",
    "import asap_lib.spectra as sa\n",
    "import asap_lib.conversion_utils as cu\n"
   ]
  },
  {
   "cell_type": "markdown",
   "id": "2eda7bb3",
   "metadata": {},
   "source": [
    "**Read In Data**"
   ]
  },
  {
   "cell_type": "code",
   "execution_count": null,
   "id": "47eb89c7",
   "metadata": {},
   "outputs": [],
   "source": [
    "# -----------------Spectrum to radial velocity correct\n",
    "# The object spectrum/spectra must be continuum normalized and have wavelength, flux, and error data\n",
    "# Permissible file types are .bin and .xyz\n",
    "spec = 'HD122563ESO.bin' \n",
    "\n",
    "spec_path = '../Data/GHOSTData/'\n",
    "\n",
    "# ----------------- Spectrum that has already been radial velocity corrected / is at rest \n",
    "template_spec = 'HD122563.fits' \n",
    "template_path = '../Data/HD_fits/'\n"
   ]
  },
  {
   "cell_type": "code",
   "execution_count": null,
   "id": "be9c3c25",
   "metadata": {},
   "outputs": [],
   "source": [
    "# ----------------- Note: the spectrum  must be on a constant / linear wavelength grid !!!\n",
    "# Uncomment the following two lines if need be\n",
    "# wave,flux,err = sa.read_spec(spec_path + spec, ftype='bin')\n",
    "# sa.interp_2_constant_dwgrid( wave, flux, err, saveName=spec_path + spec ) "
   ]
  },
  {
   "cell_type": "markdown",
   "id": "3ebda23a",
   "metadata": {},
   "source": [
    "## Radial Velocity Correct\n",
    "\n",
    "On first pass, I'll usually use:\n",
    "\n",
    "* elems = ['Ha', 'Hb', 'Mg', 'Na']\n",
    "* manual_rv = None\n",
    "* save_out_spec = False\n",
    "* plot_synth = False\n",
    "* plot_obs = False\n",
    "* plot_regions = True\n",
    "* plot_shift = False\n",
    "* plot_corr = True\n",
    "* print_spec_info = False\n",
    "* print_rv_info = True\n",
    "* save_rv_info = False\n",
    "* plot_corr_spec_info = False\n",
    "* save_plot = False\n",
    "* pause = False\n",
    "\n",
    "to make sure the windows I chose are okay and that the initail RV's are all looking good. I'll remove bad windows that gave wonky RV's. I don't save anything at this time as I might make changes later.\n",
    "\n",
    "If everything looks fine, then I'll re-run the cell with:\n",
    "* elems = *whatever I decided is good*\n",
    "* manual_rv = None\n",
    "* save_out_spec = True\n",
    "* plot_synth = False\n",
    "* plot_obs = False\n",
    "* plot_regions = False\n",
    "* plot_shift = False\n",
    "* plot_corr = True\n",
    "* print_spec_info = False\n",
    "* print_rv_info = True\n",
    "* save_rv_info = True\n",
    "* plot_corr_spec_info = False\n",
    "* save_plot = False\n",
    "* pause = False\n",
    "\n",
    "If some regions are bad for some stars and good for others, you may need to run your stars in little batches, varying which windows and RV's you use.\n",
    "\n",
    "You also might get an error saying something like \"ValueError: cannot reshape array of size 0 into shape (0,newaxis)\". This usually means the element window you are looking at is outside of the spectral coverage of your template spectrum. plot_synth = True can help identify this."
   ]
  },
  {
   "cell_type": "code",
   "execution_count": null,
   "id": "2746a950",
   "metadata": {},
   "outputs": [],
   "source": [
    "# ---- Save path and name\n",
    "saveDir = spec_path \n",
    "saveName = saveDir + spec[:-4] + '.txt'"
   ]
  },
  {
   "cell_type": "code",
   "execution_count": null,
   "id": "1866936c",
   "metadata": {
    "scrolled": false
   },
   "outputs": [],
   "source": [
    "sa.rvcor(spec, \n",
    "         saveDir,\n",
    "         template_spec, \n",
    "         template_path, \n",
    "          spec,\n",
    "          rv_elems = ['Ha', 'Hb', 'Na', 'Mg'],\n",
    "          manual_rv = None,\n",
    "          save_out_spec = True,\n",
    "          out_path = saveDir,\n",
    "          plot_synth = True,\n",
    "          plot_obs = True,\n",
    "          plot_regions = True,\n",
    "          plot_shift = True,\n",
    "          plot_corr = True,\n",
    "          print_spec_info = False,\n",
    "          print_info = True,\n",
    "          save_rv_info = True,\n",
    "          rv_save_name = saveName,\n",
    "          print_corr_spec_info = False,\n",
    "          save_plot = False,\n",
    "          save_plot_path = '',\n",
    "          pause = False,)"
   ]
  },
  {
   "cell_type": "markdown",
   "id": "279fa6cd",
   "metadata": {},
   "source": [
    "### Save as .xy spectra\n",
    "Create some ascii xy spectra (wavelength flux) for MOOG"
   ]
  },
  {
   "cell_type": "code",
   "execution_count": null,
   "id": "2cec0ee9",
   "metadata": {},
   "outputs": [],
   "source": [
    "#  ---- Create a place for the final spectra\n",
    "final_path = '../Data/final_spectra/' \n",
    "\n",
    "#  ---- Save as .xy file\n",
    "sa.bin2xy_v2( spec[:-4] , saveDir, final_path, xytype = 'MOOG')"
   ]
  },
  {
   "cell_type": "markdown",
   "id": "904747d4",
   "metadata": {},
   "source": [
    "# Optional: Apply a heliocentric or barycentric correction to the radial velocity\n",
    "\n",
    "This will not change the final spectrum and thus is optional.  However, it may be useful for comparing your final radial velocity to values in the literature\n"
   ]
  },
  {
   "cell_type": "code",
   "execution_count": null,
   "id": "a39988d6",
   "metadata": {
    "scrolled": true
   },
   "outputs": [],
   "source": [
    "hdul = fits.open('/arc5/home/jglover/Data/GHOSTData/HD122563_hr_1x1_b60r10s1_20220630_1x1_blue1_formattedOutput.fits')\n",
    "\n",
    "print(hdul[0].header['DATE-OBS'])\n",
    "print(hdul[0].header['UTSTART'], hdul[0].header['UTEND'])"
   ]
  },
  {
   "cell_type": "code",
   "execution_count": null,
   "id": "5b229df8",
   "metadata": {},
   "outputs": [],
   "source": [
    "rv = float(open(saveDir+spec[:-4]+'.txt').read().split()[6])\n",
    "rverr = float(open(saveDir+spec[:-4]+'.txt').read().split()[7])\n",
    "\n",
    "print('The original rv is {:.4} +/- {:.4f} km/s'.format(rv, rverr))"
   ]
  },
  {
   "cell_type": "code",
   "execution_count": null,
   "id": "20b238fa",
   "metadata": {},
   "outputs": [],
   "source": [
    "corrected_rv = cu.rvCoordinateCorrections(rv, telescope='gemini_south', isot_time='2022-07-01T00:18:95', objLoc_CDS='14 02 31.846 +09 41 9.94', kind='barycentric' )\n",
    "\n",
    "# Scale the original rv error to the new rv value \n",
    "percent_err = rverr / rv\n",
    "corrected_rverr = abs(corrected_rv * percent_err)\n",
    "\n",
    "print('The corrected rv is {:.4} +/- {:.4f} km/s'.format(corrected_rv, corrected_rverr))"
   ]
  },
  {
   "cell_type": "code",
   "execution_count": null,
   "id": "8c452186",
   "metadata": {},
   "outputs": [],
   "source": []
  }
 ],
 "metadata": {
  "kernelspec": {
   "display_name": "Python 3 (ipykernel)",
   "language": "python",
   "name": "python3"
  },
  "language_info": {
   "codemirror_mode": {
    "name": "ipython",
    "version": 3
   },
   "file_extension": ".py",
   "mimetype": "text/x-python",
   "name": "python",
   "nbconvert_exporter": "python",
   "pygments_lexer": "ipython3",
   "version": "3.9.16"
  }
 },
 "nbformat": 4,
 "nbformat_minor": 5
}
