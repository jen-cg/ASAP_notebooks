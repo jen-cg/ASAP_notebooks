{
 "cells": [
  {
   "cell_type": "markdown",
   "id": "fb773b70",
   "metadata": {},
   "source": [
    "# Combine Exposures\n",
    "\n",
    "- The following document combines multiple exposures of a single object by taking their median \n",
    "- Specifically, for exposures of the same object taken at the same time with the GHOST spectrograph\n",
    "    - The exposures should have been taken at the same time so that flux does not change significanlty between them\n",
    "        - This means that they do not need to be continuum normalized before this stage  \n",
    "    - The exposures should have the same wavelength array (at this time, this is the case for GHOST spectra)\n",
    "    \n",
    "- Modifications can be made if other functionality is needed"
   ]
  },
  {
   "cell_type": "code",
   "execution_count": null,
   "id": "3817e2b8",
   "metadata": {},
   "outputs": [],
   "source": [
    "import numpy as np\n",
    "import os \n",
    "import glob\n",
    "from astropy.io import fits\n",
    "import matplotlib.pyplot as plt\n",
    "import itertools\n",
    "import sys\n",
    "\n",
    "%matplotlib notebook\n",
    "\n",
    "# ----------------- Import the other files of functions\n",
    "module_path = os.path.join('../')\n",
    "if module_path not in sys.path:\n",
    "    sys.path.append(module_path)\n",
    "    \n",
    "import asap_lib.spectra as sa"
   ]
  },
  {
   "cell_type": "code",
   "execution_count": null,
   "id": "dbf2e42a",
   "metadata": {},
   "outputs": [],
   "source": [
    "extensionVersion = 'new' # CHANGE ME\n",
    "\n",
    "IFU = 0 # CHANGE ME\n",
    "\n",
    "# Name of your object \n",
    "star = 'Spec_phot' # CHANGE ME\n",
    "\n",
    "# Path to folder containing formatted output files for JUST that obejct\n",
    "path = '../GHOST_ObsData/{}/output/'.format(star)# CHANGE ME\n",
    "\n",
    "spath = path+star"
   ]
  },
  {
   "cell_type": "markdown",
   "id": "e418ac58",
   "metadata": {},
   "source": [
    "**NOTE: The data is expected to be in GHOST formattedOutput.fits files**"
   ]
  },
  {
   "cell_type": "code",
   "execution_count": null,
   "id": "f229ed9a",
   "metadata": {
    "scrolled": false
   },
   "outputs": [],
   "source": [
    "# ---------- There should be (theoretically) nothing to change in the following cell \n",
    "for camera in ['blue', 'red']:\n",
    "\n",
    "    condition = '*{}*formattedOutput.fits'.format(camera)\n",
    "    obs = glob.glob(path+condition)\n",
    "    \n",
    "    print('Found {} exposures to combine: '.format(len(obs)))\n",
    "    print(*obs, sep=\"\\n\")\n",
    "\n",
    "    # --------------------------------\n",
    "    waves = []\n",
    "    fluxes = []\n",
    "    errs = []\n",
    "\n",
    "    for item in obs:\n",
    "        spectra = fits.open(item)\n",
    "\n",
    "        if extensionVersion == 'old':\n",
    "            wave = spectra[7].data\n",
    "            flux = spectra[5].data[:,IFU]\n",
    "            err = spectra[6].data[:,IFU]\n",
    "            \n",
    "        if extensionVersion == 'new':\n",
    "            wave = spectra[11].data\n",
    "            flux = spectra[12].data[:,IFU]\n",
    "            err = spectra[13].data[:,IFU]\n",
    "\n",
    "        waves.append(wave)\n",
    "        fluxes.append(flux)\n",
    "        errs.append(err)\n",
    "\n",
    "    # --------------------------------\n",
    "    pairs =  list(itertools.combinations(range(len(waves)), 2))\n",
    "\n",
    "    for pair in pairs:\n",
    "        value = np.array_equal(waves[pair[0]], waves[pair[1]])\n",
    "        if value == False:\n",
    "            print('Wavelength arrays not equivalent. Do not proceed')\n",
    "            break\n",
    "\n",
    "    if len(waves) > 0:\n",
    "        # -------------------------------- Median Combine flux and combine error with Poisson statistics \n",
    "        finalWave = waves[0]\n",
    "        finalFlux = np.median(fluxes,axis=0)\n",
    "        finalErr = np.sqrt( sum(i*i for i in errs) ) / len(errs) \n",
    "\n",
    "\n",
    "        # -------------------------------- Save the output as .xyz and .bin files \n",
    "        sa.write2xyz(finalWave, finalFlux, finalErr, spath+'_{}'.format(camera))\n",
    "        sa.write2bin(finalWave, finalFlux, finalErr, spath+'_{}'.format(camera))\n",
    "\n",
    "        print('Saved combination of {} {} camera images'.format(len(waves), camera))\n",
    "        # --------------------------------\n",
    "\n",
    "    else:\n",
    "        print('No {} camera files found'.format(camera))"
   ]
  },
  {
   "cell_type": "markdown",
   "id": "83ed9c40",
   "metadata": {},
   "source": [
    "# Patch NaN and Inf values \n",
    "\n",
    "Sometimes spectra have nan and inf values which can be annoying to work with. \n",
    "\n",
    "The following bit of code will change all inf and nan flux values in a spectrum to a specified value \n",
    "\n",
    "(This can be performed at any stage )"
   ]
  },
  {
   "cell_type": "code",
   "execution_count": null,
   "id": "42a7cdfe",
   "metadata": {},
   "outputs": [],
   "source": [
    "# -------------------------------- \n",
    "# Path to the spectrum of the object \n",
    "specPath = '../GHOST_ObsData/Aq2_IFU1/output/Aq2_IFU1_red.bin'\n",
    "\n",
    "# -------------------------------- \n",
    "# Path to save result to\n",
    "savePath = '../GHOST_ObsData/Aq2_IFU1/output/Aq2_IFU1_redPatched'\n",
    "\n",
    "# -------------------------------- \n",
    "# Read in the spectrum\n",
    "w, f, e = sa.read_spec(specPath, ftype='bin')\n",
    "\n",
    "# -------------------------------- \n",
    "# Replace all inf and nan values with 0 and make error very large wherever you do that \n",
    "change_f, change_e = sa.spectrum_replaceNaN(f,e, fill_value=0, change_err=True, fill_error=1e99)\n",
    "\n",
    "# --------------------------------\n",
    "# Save the output as .xyz and .bin files \n",
    "sa.write2xyz( w, change_f,change_e, savePath )\n",
    "sa.write2bin( w, change_f,change_e, savePath )"
   ]
  },
  {
   "cell_type": "code",
   "execution_count": null,
   "id": "5dfd5cde",
   "metadata": {},
   "outputs": [],
   "source": []
  }
 ],
 "metadata": {
  "kernelspec": {
   "display_name": "Python 3 (ipykernel)",
   "language": "python",
   "name": "python3"
  },
  "language_info": {
   "codemirror_mode": {
    "name": "ipython",
    "version": 3
   },
   "file_extension": ".py",
   "mimetype": "text/x-python",
   "name": "python",
   "nbconvert_exporter": "python",
   "pygments_lexer": "ipython3",
   "version": "3.9.16"
  },
  "varInspector": {
   "cols": {
    "lenName": 16,
    "lenType": 16,
    "lenVar": 40
   },
   "kernels_config": {
    "python": {
     "delete_cmd_postfix": "",
     "delete_cmd_prefix": "del ",
     "library": "var_list.py",
     "varRefreshCmd": "print(var_dic_list())"
    },
    "r": {
     "delete_cmd_postfix": ") ",
     "delete_cmd_prefix": "rm(",
     "library": "var_list.r",
     "varRefreshCmd": "cat(var_dic_list()) "
    }
   },
   "types_to_exclude": [
    "module",
    "function",
    "builtin_function_or_method",
    "instance",
    "_Feature"
   ],
   "window_display": false
  }
 },
 "nbformat": 4,
 "nbformat_minor": 5
}
