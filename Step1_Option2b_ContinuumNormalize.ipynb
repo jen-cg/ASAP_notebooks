{
 "cells": [
  {
   "cell_type": "markdown",
   "id": "321ec6bd",
   "metadata": {},
   "source": [
    "# Continuum Normalize\n",
    "\n",
    "The spectrum from a star or object is not level.  In a simple approximation, the spectrum of a star follows a blackbody curve with emission or absorption lines superimposed.\n",
    "\n",
    "The object spectrum extracted from the detector will, of course, follow some distribution.  This distribution will be affected by the object's inherent spectrum and also by the instruments.  For example, echelle spectrographs often send less light to the ends of each order.  If a spectrum is extracted from one order, it would follow a general parabolic shape (plus inherent distribution) beacause of the optics of the spectrograph. \n",
    "\n",
    "If we wish to compare spectral features across spectra, we often need to continuum normalize the spectrum such that we see spectral features superimposed on a flat line instead of some curve. This flat line is often chosen to be at 1. \n",
    "\n",
    "___\n",
    "The method which will most succesfully continuum normalize a spectrum depends on that spectrum.  Here several methods are presented which can be used to continuum normalize a spectrum."
   ]
  },
  {
   "cell_type": "code",
   "execution_count": null,
   "id": "dd646a14",
   "metadata": {},
   "outputs": [],
   "source": [
    "%matplotlib notebook\n",
    "\n",
    "import matplotlib.pyplot as plt\n",
    "import numpy as np \n",
    "import os \n",
    "import sys\n",
    "from os import listdir\n",
    "import shutil\n",
    "\n",
    "from astropy.io import ascii\n",
    "from astropy.io import fits\n",
    "from astropy.table import Table\n",
    "from astropy import units as u\n",
    "\n",
    "# ----------------- Import the other files of functions\n",
    "module_path = os.path.abspath(os.path.join('../ASAP'))\n",
    "if module_path not in sys.path:\n",
    "    sys.path.append(module_path)\n",
    "\n",
    "import asap_lib.moog_funcs as mf\n",
    "import asap_lib.auto_atmosphere as aa\n",
    "import asap_lib.calc_abunds as calc_abunds\n",
    "import asap_lib.line_list_utils as llu\n",
    "import asap_lib.spectra as sa\n",
    "\n",
    "from scipy.stats import sigmaclip\n",
    "from astropy.stats import sigma_clip\n",
    "from scipy.signal import medfilt\n",
    "from scipy.ndimage import median_filter \n"
   ]
  },
  {
   "cell_type": "markdown",
   "id": "5385523a",
   "metadata": {},
   "source": [
    "# Method: 2-Stage Continuum Normalization\n",
    "\n",
    "The continuum is first estimated by applying a median filter to the flux.  A sufficienlty large window will remove absorption lines, emission lines, and egregious noise.   \n",
    "The flux is then divided by the first continuum estimate.  This flattens the spectrum and brings the continuum close to one.  \n",
    "\n",
    "The continuum position is then adjusted a final time.  A sigma-clipping routine is applied to  remove absorption and emission lines, leaving an estimate of the continuum. The flux is then divided by the mean of the continuum to bring the continuum closer  to 1."
   ]
  },
  {
   "cell_type": "markdown",
   "id": "a2d71a0c",
   "metadata": {},
   "source": [
    "**Read In Data**"
   ]
  },
  {
   "cell_type": "code",
   "execution_count": null,
   "id": "ef4c64e2",
   "metadata": {},
   "outputs": [],
   "source": [
    "# ----------------- Read in the spectrum\n",
    "'''\n",
    "Read in the spectrum - must have wavelength, flux, and error data \n",
    "\n",
    "Try: fits, ghostfits, bin, or xyz\n",
    "'''\n",
    "spath = '../Data/GHOSTData/HD122563_hr_1x1_b60r10s1_20220630_1x1_blue1_formattedOutput.fits'\n",
    "w, f, e = sa.read_spec(spath, ftype='ghostfits')\n",
    "\n",
    "# # -----------------\n",
    "# # Crop off noisey ends\n",
    "# w_min = 3650\n",
    "# w_max = 5300\n",
    "\n",
    "# ind = np.where( (w >= w_min) & (w <= w_max ) )[0]\n",
    "\n",
    "# wave = w[ind]\n",
    "# flux = np.array(f[ind].flatten(), dtype='float32')\n",
    "# err = np.array(e[ind].flatten(), dtype='float32')"
   ]
  },
  {
   "cell_type": "markdown",
   "id": "a3136ee2",
   "metadata": {},
   "source": [
    "**Apply The Continuum Normalization**\n"
   ]
  },
  {
   "cell_type": "code",
   "execution_count": null,
   "id": "379eccb7",
   "metadata": {},
   "outputs": [],
   "source": [
    "smooth_kernel = 10000\n",
    "sigma_lower = 1\n",
    "sigma_upper =  3\n",
    "\n",
    "norm, filt = sa.contnorm_2stage(flux, smooth_kernel, sigma_lower, sigma_upper)"
   ]
  },
  {
   "cell_type": "markdown",
   "id": "47dea72f",
   "metadata": {},
   "source": [
    "*Some plots for visualization*"
   ]
  },
  {
   "cell_type": "code",
   "execution_count": null,
   "id": "b6ad1edc",
   "metadata": {
    "scrolled": false
   },
   "outputs": [],
   "source": [
    "plt.figure(figsize=(10,8))\n",
    "\n",
    "ax = plt.subplot( 411 )\n",
    "plt.title('Original Spectrum')\n",
    "plt.plot( wave, flux )\n",
    "plt.grid(alpha=0.25)\n",
    "plt.xlabel('Wavelength')\n",
    "plt.ylabel('Flux')\n",
    "\n",
    "#-------------------\n",
    "norm, cont = sa.contnorm_filter(flux, smooth_kernel, mode='reflect')\n",
    "\n",
    "ax2 = plt.subplot( 412, sharex=ax )\n",
    "plt.title('Continuum Estimation via Filtering')\n",
    "\n",
    "plt.plot( wave, flux, label='Original Spectrum')\n",
    "plt.plot( wave, cont, label='Estimated Continuum')\n",
    "plt.grid(alpha=0.25)\n",
    "plt.legend(ncol=2)\n",
    "plt.xlabel('Wavelength')\n",
    "plt.ylabel('Flux')\n",
    "\n",
    "\n",
    "#-------------------\n",
    "ax3 = plt.subplot( 413, sharex=ax )\n",
    "plt.title('Continuum Normalization via Filtering')\n",
    "plt.plot( wave, norm, label='Normalized Spectrum')\n",
    "plt.grid(alpha=0.25)\n",
    "xmin, xmax = ax.get_xlim()\n",
    "plt.hlines(1,xmin,xmax,color='red',zorder=5,alpha=0.5, label='1')\n",
    "plt.xlabel('Wavelength')\n",
    "plt.ylabel('Flux')\n",
    "plt.legend(ncol=2)\n",
    "\n",
    "#-------------------\n",
    "norm2 = sa.contnorm_sigclip(norm, sigma_lower, sigma_upper)\n",
    "\n",
    "ax4 = plt.subplot( 414, sharex=ax )\n",
    "plt.title('Continuum Position Improvement via sigma-clipping')\n",
    "\n",
    "plt.plot( wave, norm2, label='Normalized Spectrum')\n",
    "plt.grid(alpha=0.25)\n",
    "xmin, xmax = ax.get_xlim()\n",
    "plt.hlines(1,xmin,xmax,color='red',zorder=5,alpha=0.5, label='1')\n",
    "plt.xlabel('Wavelength')\n",
    "plt.ylabel('Flux')\n",
    "\n",
    "plt.legend(ncol=2)\n",
    "plt.subplots_adjust(hspace=1)"
   ]
  },
  {
   "cell_type": "markdown",
   "id": "b7d3cb5f",
   "metadata": {},
   "source": [
    "*Optional: Save The Result*\n",
    "```python\n",
    "sa.write2bin(wave,norm,err, save_path )\n",
    "```\n",
    "OR \n",
    "```python\n",
    "sa.write2xyz(wave,norm,err, save_path )\n",
    "```\n",
    "\n",
    "OR \n",
    "```python\n",
    "sa.write2xy(wave,norm, save_path )\n",
    "```"
   ]
  },
  {
   "cell_type": "markdown",
   "id": "8be95297",
   "metadata": {},
   "source": [
    "# Method: User specified continuum curve\n",
    "\n",
    "The above routine seems to work well for many spectra, but sometimes it does not.  The filtering for estimation of the continuum does not work very well for finding the continuum when there are very deep and wide spectral features. \n",
    "\n",
    "In this case the user can specify the position of the continuum using an interactive plot.  This can be used for the entire continuum normalization or to touch up the continuum normalization above. \n",
    "\n",
    "*want to display another spectrum for refence on the lower plot?*  \n",
    "Try adding:\n",
    "```python \n",
    "continuum.addReference(ref_w, ref_f)\n",
    "```"
   ]
  },
  {
   "cell_type": "code",
   "execution_count": null,
   "id": "7f1edfb3",
   "metadata": {},
   "outputs": [],
   "source": [
    "lines = open('../Data/GHOSTData/hd122563_kuruczll_newparam_comb.spec.gbmconvol'  ).readlines()\n",
    "\n",
    "turbo_w = [ float(line.split()[0]) for line in lines ]\n",
    "turbo_f = [ float(line.split()[1]) for line in lines ]\n"
   ]
  },
  {
   "cell_type": "code",
   "execution_count": null,
   "id": "44271849",
   "metadata": {},
   "outputs": [],
   "source": [
    "# ---------- Initialize and create continuum\n",
    "continuum = sa.drawContinuum(wave, flux)\n",
    "continuum.connect()"
   ]
  },
  {
   "cell_type": "code",
   "execution_count": null,
   "id": "98289a94",
   "metadata": {},
   "outputs": [],
   "source": [
    "continuum.addReference(turbo_w, turbo_f)"
   ]
  },
  {
   "cell_type": "code",
   "execution_count": null,
   "id": "3f3a251e",
   "metadata": {},
   "outputs": [],
   "source": [
    "continuum.disconnect()"
   ]
  },
  {
   "cell_type": "markdown",
   "id": "856c808c",
   "metadata": {},
   "source": [
    "*Optional: Save The Result*\n",
    "```python\n",
    "sa.write2bin(wave,continuum.norm,err, save_path )\n",
    "```\n",
    "OR \n",
    "```python\n",
    "sa.write2xy(wave,continuum.norm, save_path )\n",
    "```"
   ]
  },
  {
   "cell_type": "code",
   "execution_count": null,
   "id": "441abc8e",
   "metadata": {},
   "outputs": [],
   "source": [
    "save_path = '/arc5/home/jglover/Data/GHOSTData/HD122563ESO'"
   ]
  },
  {
   "cell_type": "code",
   "execution_count": null,
   "id": "15b5d2ea",
   "metadata": {},
   "outputs": [],
   "source": [
    "sa.write2bin(wave,continuum.norm,err, save_path )\n",
    "sa.write2xyz(wave,continuum.norm,err, save_path )"
   ]
  },
  {
   "cell_type": "code",
   "execution_count": null,
   "id": "d6842c0d",
   "metadata": {},
   "outputs": [],
   "source": []
  }
 ],
 "metadata": {
  "kernelspec": {
   "display_name": "Python 3 (ipykernel)",
   "language": "python",
   "name": "python3"
  },
  "language_info": {
   "codemirror_mode": {
    "name": "ipython",
    "version": 3
   },
   "file_extension": ".py",
   "mimetype": "text/x-python",
   "name": "python",
   "nbconvert_exporter": "python",
   "pygments_lexer": "ipython3",
   "version": "3.9.16"
  }
 },
 "nbformat": 4,
 "nbformat_minor": 5
}
